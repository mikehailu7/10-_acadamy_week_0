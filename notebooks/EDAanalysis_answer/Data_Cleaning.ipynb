{
 "cells": [
  {
   "cell_type": "code",
   "execution_count": null,
   "id": "045bb376-2a9b-40ba-ad4d-beb72273d81f",
   "metadata": {},
   "outputs": [],
   "source": [
    "import pandas as pd"
   ]
  },
  {
   "cell_type": "code",
   "execution_count": 5,
   "id": "67c81e52-9132-4df6-9934-51d43bc1417e",
   "metadata": {},
   "outputs": [],
   "source": [
    "data_1 = pd.read_csv('./data/benin-malanville.csv')"
   ]
  },
  {
   "cell_type": "code",
   "execution_count": 6,
   "id": "626c5c69-9e25-4dfe-b543-625bfcb7c0ee",
   "metadata": {},
   "outputs": [],
   "source": [
    "data_1_cleaned = data_1.dropna(axis=1, how='all')"
   ]
  },
  {
   "cell_type": "code",
   "execution_count": 7,
   "id": "34ca854f-9aab-4869-b544-3fbaee46763d",
   "metadata": {},
   "outputs": [],
   "source": [
    "data_2 = pd.read_csv('./data/sierraleone-bumbuna.csv')"
   ]
  },
  {
   "cell_type": "code",
   "execution_count": 8,
   "id": "880061bb-7d46-4dba-93c5-5badd161f8fe",
   "metadata": {},
   "outputs": [],
   "source": [
    "data_2_cleaned = data_2.dropna(axis=1, how='all')"
   ]
  },
  {
   "cell_type": "code",
   "execution_count": 9,
   "id": "e5a38009-4cab-42c6-8446-edd2bb7d13c4",
   "metadata": {},
   "outputs": [],
   "source": [
    "data_3 = pd.read_csv('./data/togo-dapaong_qc.csv')"
   ]
  },
  {
   "cell_type": "code",
   "execution_count": 10,
   "id": "32ace244-6f94-49c8-9131-9782047530ab",
   "metadata": {},
   "outputs": [],
   "source": [
    "data_3_cleaned = data_3.dropna(axis=1, how='all')"
   ]
  }
 ],
 "metadata": {
  "kernelspec": {
   "display_name": "Python 3 (ipykernel)",
   "language": "python",
   "name": "python3"
  },
  "language_info": {
   "codemirror_mode": {
    "name": "ipython",
    "version": 3
   },
   "file_extension": ".py",
   "mimetype": "text/x-python",
   "name": "python",
   "nbconvert_exporter": "python",
   "pygments_lexer": "ipython3",
   "version": "3.12.3"
  }
 },
 "nbformat": 4,
 "nbformat_minor": 5
}

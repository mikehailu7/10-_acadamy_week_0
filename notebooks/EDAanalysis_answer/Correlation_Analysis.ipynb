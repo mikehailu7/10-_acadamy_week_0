{
 "cells": [
  {
   "cell_type": "code",
   "execution_count": 1,
   "id": "ea0e542f-b83b-4606-a596-8197f47223e1",
   "metadata": {},
   "outputs": [],
   "source": [
    "import pandas as pd"
   ]
  },
  {
   "cell_type": "code",
   "execution_count": 2,
   "id": "862b4abb-5481-461f-9ccc-12ae36024886",
   "metadata": {},
   "outputs": [],
   "source": [
    "data_1 = pd.read_csv('./data/benin-malanville.csv')"
   ]
  },
  {
   "cell_type": "code",
   "execution_count": 4,
   "id": "3004b6d5-3311-4151-8b3b-3bd166859a8b",
   "metadata": {},
   "outputs": [],
   "source": [
    "correlation_analysis_1 = data_1[['GHI', 'DHI', 'DNI', 'TModA', 'TModB']].corr()"
   ]
  },
  {
   "cell_type": "code",
   "execution_count": 5,
   "id": "0d76f017-4862-45f7-ad11-77041543dcd3",
   "metadata": {},
   "outputs": [
    {
     "name": "stdout",
     "output_type": "stream",
     "text": [
      "Correlation Coefficient Matrix:\n",
      "            GHI       DHI       DNI     TModA     TModB\n",
      "GHI    1.000000  0.849989  0.882376  0.920127  0.874338\n",
      "DHI    0.849989  1.000000  0.546602  0.825012  0.777829\n",
      "DNI    0.882376  0.546602  1.000000  0.790340  0.756007\n",
      "TModA  0.920127  0.825012  0.790340  1.000000  0.983443\n",
      "TModB  0.874338  0.777829  0.756007  0.983443  1.000000\n"
     ]
    }
   ],
   "source": [
    "print(\"Correlation Coefficient Matrix:\")\n",
    "print(correlation_analysis_1)"
   ]
  },
  {
   "cell_type": "code",
   "execution_count": 6,
   "id": "e7adcafc-c8de-44e3-b949-b795f0f971e7",
   "metadata": {},
   "outputs": [],
   "source": [
    "data_2 = pd.read_csv('./data/sierraleone-bumbuna.csv')"
   ]
  },
  {
   "cell_type": "code",
   "execution_count": 7,
   "id": "5d7892f1-94d0-4887-832f-e51ee30ffecf",
   "metadata": {},
   "outputs": [],
   "source": [
    "correlation_analysis_2 = data_2[['GHI', 'DHI', 'DNI', 'TModA', 'TModB']].corr()"
   ]
  },
  {
   "cell_type": "code",
   "execution_count": 8,
   "id": "a6a19ce2-6423-4f8f-a05a-be6cc8b03b99",
   "metadata": {},
   "outputs": [
    {
     "name": "stdout",
     "output_type": "stream",
     "text": [
      "Correlation Coefficient Matrix:\n",
      "            GHI       DHI       DNI     TModA     TModB\n",
      "GHI    1.000000  0.865815  0.869108  0.923092  0.912260\n",
      "DHI    0.865815  1.000000  0.536710  0.808479  0.807551\n",
      "DNI    0.869108  0.536710  1.000000  0.816449  0.808194\n",
      "TModA  0.923092  0.808479  0.816449  1.000000  0.993228\n",
      "TModB  0.912260  0.807551  0.808194  0.993228  1.000000\n"
     ]
    }
   ],
   "source": [
    "print(\"Correlation Coefficient Matrix:\")\n",
    "print(correlation_analysis_2)"
   ]
  },
  {
   "cell_type": "code",
   "execution_count": 9,
   "id": "9dd3232c-1c77-43e3-8229-221481603fa0",
   "metadata": {},
   "outputs": [],
   "source": [
    "data_3 = pd.read_csv('./data/togo-dapaong_qc.csv')"
   ]
  },
  {
   "cell_type": "code",
   "execution_count": 10,
   "id": "d583f036-a1ff-44eb-b64a-a3d2380f64aa",
   "metadata": {},
   "outputs": [],
   "source": [
    "correlation_analysis_3 = data_3[['GHI', 'DHI', 'DNI', 'TModA', 'TModB']].corr()"
   ]
  },
  {
   "cell_type": "code",
   "execution_count": 11,
   "id": "b4f9bee5-3af7-427e-b00a-d909f09d39e2",
   "metadata": {},
   "outputs": [
    {
     "name": "stdout",
     "output_type": "stream",
     "text": [
      "Correlation Coefficient Matrix:\n",
      "            GHI       DHI       DNI     TModA     TModB\n",
      "GHI    1.000000  0.852080  0.877293  0.898211  0.919220\n",
      "DHI    0.852080  1.000000  0.532717  0.802319  0.820360\n",
      "DNI    0.877293  0.532717  1.000000  0.765881  0.783572\n",
      "TModA  0.898211  0.802319  0.765881  1.000000  0.985069\n",
      "TModB  0.919220  0.820360  0.783572  0.985069  1.000000\n"
     ]
    }
   ],
   "source": [
    "print(\"Correlation Coefficient Matrix:\")\n",
    "print(correlation_analysis_3)"
   ]
  }
 ],
 "metadata": {
  "kernelspec": {
   "display_name": "Python 3 (ipykernel)",
   "language": "python",
   "name": "python3"
  },
  "language_info": {
   "codemirror_mode": {
    "name": "ipython",
    "version": 3
   },
   "file_extension": ".py",
   "mimetype": "text/x-python",
   "name": "python",
   "nbconvert_exporter": "python",
   "pygments_lexer": "ipython3",
   "version": "3.12.3"
  }
 },
 "nbformat": 4,
 "nbformat_minor": 5
}
